{
 "cells": [
  {
   "cell_type": "code",
   "execution_count": 1,
   "metadata": {},
   "outputs": [],
   "source": [
    "import pandas as pd\n",
    "import unidecode\n",
    "from xgboost import XGBClassifier\n",
    "from sklearn.model_selection import train_test_split\n",
    "from sklearn.metrics import accuracy_score\n",
    "import re"
   ]
  },
  {
   "cell_type": "markdown",
   "metadata": {},
   "source": [
    "### This exercise uses xgboost to build a decision tree predicting which players should've been selected for the 2021 NBA All-Star game. I'm using xgboost to experiment with how it does with a lot of variables"
   ]
  },
  {
   "cell_type": "markdown",
   "metadata": {},
   "source": [
    "#### Load excel tables of player stats by season. Then, make a list of the players who made the all-star game that year, and add a dummy variable to each row indicating if the player made the team."
   ]
  },
  {
   "cell_type": "markdown",
   "metadata": {},
   "source": [
    "#### 2015 - 2016 Season"
   ]
  },
  {
   "cell_type": "code",
   "execution_count": 2,
   "metadata": {},
   "outputs": [
    {
     "data": {
      "text/html": [
       "<div>\n",
       "<style scoped>\n",
       "    .dataframe tbody tr th:only-of-type {\n",
       "        vertical-align: middle;\n",
       "    }\n",
       "\n",
       "    .dataframe tbody tr th {\n",
       "        vertical-align: top;\n",
       "    }\n",
       "\n",
       "    .dataframe thead th {\n",
       "        text-align: right;\n",
       "    }\n",
       "</style>\n",
       "<table border=\"1\" class=\"dataframe\">\n",
       "  <thead>\n",
       "    <tr style=\"text-align: right;\">\n",
       "      <th></th>\n",
       "      <th>Rk</th>\n",
       "      <th>Player</th>\n",
       "      <th>Pos</th>\n",
       "      <th>Age</th>\n",
       "      <th>Tm</th>\n",
       "      <th>G</th>\n",
       "      <th>GS</th>\n",
       "      <th>MP</th>\n",
       "      <th>FG</th>\n",
       "      <th>FGA</th>\n",
       "      <th>...</th>\n",
       "      <th>FT%</th>\n",
       "      <th>ORB</th>\n",
       "      <th>DRB</th>\n",
       "      <th>TRB</th>\n",
       "      <th>AST</th>\n",
       "      <th>STL</th>\n",
       "      <th>BLK</th>\n",
       "      <th>TOV</th>\n",
       "      <th>PF</th>\n",
       "      <th>PTS</th>\n",
       "    </tr>\n",
       "  </thead>\n",
       "  <tbody>\n",
       "    <tr>\n",
       "      <th>0</th>\n",
       "      <td>1</td>\n",
       "      <td>Quincy Acy\\acyqu01</td>\n",
       "      <td>PF</td>\n",
       "      <td>25</td>\n",
       "      <td>SAC</td>\n",
       "      <td>59</td>\n",
       "      <td>29</td>\n",
       "      <td>14.8</td>\n",
       "      <td>2.0</td>\n",
       "      <td>3.6</td>\n",
       "      <td>...</td>\n",
       "      <td>0.735</td>\n",
       "      <td>1.1</td>\n",
       "      <td>2.1</td>\n",
       "      <td>3.2</td>\n",
       "      <td>0.5</td>\n",
       "      <td>0.5</td>\n",
       "      <td>0.4</td>\n",
       "      <td>0.5</td>\n",
       "      <td>1.7</td>\n",
       "      <td>5.2</td>\n",
       "    </tr>\n",
       "    <tr>\n",
       "      <th>1</th>\n",
       "      <td>2</td>\n",
       "      <td>Jordan Adams\\adamsjo01</td>\n",
       "      <td>SG</td>\n",
       "      <td>21</td>\n",
       "      <td>MEM</td>\n",
       "      <td>2</td>\n",
       "      <td>0</td>\n",
       "      <td>7.5</td>\n",
       "      <td>1.0</td>\n",
       "      <td>3.0</td>\n",
       "      <td>...</td>\n",
       "      <td>0.600</td>\n",
       "      <td>0.0</td>\n",
       "      <td>1.0</td>\n",
       "      <td>1.0</td>\n",
       "      <td>1.5</td>\n",
       "      <td>1.5</td>\n",
       "      <td>0.0</td>\n",
       "      <td>1.0</td>\n",
       "      <td>1.0</td>\n",
       "      <td>3.5</td>\n",
       "    </tr>\n",
       "    <tr>\n",
       "      <th>2</th>\n",
       "      <td>3</td>\n",
       "      <td>Steven Adams\\adamsst01</td>\n",
       "      <td>C</td>\n",
       "      <td>22</td>\n",
       "      <td>OKC</td>\n",
       "      <td>80</td>\n",
       "      <td>80</td>\n",
       "      <td>25.2</td>\n",
       "      <td>3.3</td>\n",
       "      <td>5.3</td>\n",
       "      <td>...</td>\n",
       "      <td>0.582</td>\n",
       "      <td>2.7</td>\n",
       "      <td>3.9</td>\n",
       "      <td>6.7</td>\n",
       "      <td>0.8</td>\n",
       "      <td>0.5</td>\n",
       "      <td>1.1</td>\n",
       "      <td>1.1</td>\n",
       "      <td>2.8</td>\n",
       "      <td>8.0</td>\n",
       "    </tr>\n",
       "    <tr>\n",
       "      <th>3</th>\n",
       "      <td>4</td>\n",
       "      <td>Arron Afflalo\\afflaar01</td>\n",
       "      <td>SG</td>\n",
       "      <td>30</td>\n",
       "      <td>NYK</td>\n",
       "      <td>71</td>\n",
       "      <td>57</td>\n",
       "      <td>33.4</td>\n",
       "      <td>5.0</td>\n",
       "      <td>11.3</td>\n",
       "      <td>...</td>\n",
       "      <td>0.840</td>\n",
       "      <td>0.3</td>\n",
       "      <td>3.4</td>\n",
       "      <td>3.7</td>\n",
       "      <td>2.0</td>\n",
       "      <td>0.4</td>\n",
       "      <td>0.1</td>\n",
       "      <td>1.2</td>\n",
       "      <td>2.0</td>\n",
       "      <td>12.8</td>\n",
       "    </tr>\n",
       "    <tr>\n",
       "      <th>4</th>\n",
       "      <td>5</td>\n",
       "      <td>Alexis Ajinça\\ajincal01</td>\n",
       "      <td>C</td>\n",
       "      <td>27</td>\n",
       "      <td>NOP</td>\n",
       "      <td>59</td>\n",
       "      <td>17</td>\n",
       "      <td>14.6</td>\n",
       "      <td>2.5</td>\n",
       "      <td>5.3</td>\n",
       "      <td>...</td>\n",
       "      <td>0.839</td>\n",
       "      <td>1.3</td>\n",
       "      <td>3.3</td>\n",
       "      <td>4.6</td>\n",
       "      <td>0.5</td>\n",
       "      <td>0.3</td>\n",
       "      <td>0.6</td>\n",
       "      <td>0.9</td>\n",
       "      <td>2.3</td>\n",
       "      <td>6.0</td>\n",
       "    </tr>\n",
       "  </tbody>\n",
       "</table>\n",
       "<p>5 rows × 30 columns</p>\n",
       "</div>"
      ],
      "text/plain": [
       "   Rk                   Player Pos  Age   Tm   G  GS    MP   FG   FGA  ...  \\\n",
       "0   1       Quincy Acy\\acyqu01  PF   25  SAC  59  29  14.8  2.0   3.6  ...   \n",
       "1   2   Jordan Adams\\adamsjo01  SG   21  MEM   2   0   7.5  1.0   3.0  ...   \n",
       "2   3   Steven Adams\\adamsst01   C   22  OKC  80  80  25.2  3.3   5.3  ...   \n",
       "3   4  Arron Afflalo\\afflaar01  SG   30  NYK  71  57  33.4  5.0  11.3  ...   \n",
       "4   5  Alexis Ajinça\\ajincal01   C   27  NOP  59  17  14.6  2.5   5.3  ...   \n",
       "\n",
       "     FT%  ORB  DRB  TRB  AST  STL  BLK  TOV   PF   PTS  \n",
       "0  0.735  1.1  2.1  3.2  0.5  0.5  0.4  0.5  1.7   5.2  \n",
       "1  0.600  0.0  1.0  1.0  1.5  1.5  0.0  1.0  1.0   3.5  \n",
       "2  0.582  2.7  3.9  6.7  0.8  0.5  1.1  1.1  2.8   8.0  \n",
       "3  0.840  0.3  3.4  3.7  2.0  0.4  0.1  1.2  2.0  12.8  \n",
       "4  0.839  1.3  3.3  4.6  0.5  0.3  0.6  0.9  2.3   6.0  \n",
       "\n",
       "[5 rows x 30 columns]"
      ]
     },
     "execution_count": 2,
     "metadata": {},
     "output_type": "execute_result"
    }
   ],
   "source": [
    "nba_16 = pd.read_excel(r'NBA 15-16.xlsx')\n",
    "nba_16.head()"
   ]
  },
  {
   "cell_type": "code",
   "execution_count": 3,
   "metadata": {},
   "outputs": [],
   "source": [
    "all_stars_16 = ['DeMar DeRozan','Lebron James', 'Isaiah Thomas', 'Dwyane Wade','Jimmy Butler','Chris Bosh',\\\n",
    "'John Wall','Andre Drummond','Al Horford','Carmelo Anthony', 'Kyle Lowry','Paul George','Paul Millsap', \\\n",
    "'Stephen Curry','James Harden','Kobe Bryant','Lamarcus Aldridge','Kevin Durant','Kawhi Leonard','Anthony Davis','Russell Westbrook', \\\n",
    "'Klay Thompson','Draymond Green','DeMarcus Cousins','Pau Gasol']\n",
    "#lowercase all names\n",
    "all_stars_16 = [x.lower() for x in all_stars_16]\n",
    "#get rid of accents in names\n",
    "all_stars_16 = [unidecode.unidecode(x) for x in all_stars_16]\n",
    "\n",
    "nba_16['allstar'] = nba_16['Player'].apply(lambda x: 1 if (any(s.upper() in x.upper() for s in all_stars_16)) else 0)"
   ]
  },
  {
   "cell_type": "markdown",
   "metadata": {},
   "source": [
    "#### 2016 - 2017 Season"
   ]
  },
  {
   "cell_type": "code",
   "execution_count": 4,
   "metadata": {},
   "outputs": [],
   "source": [
    "nba_17 = pd.read_excel(r'NBA 16-17.xlsx')\n",
    "\n",
    "all_stars_17 = ['Kyrie Irving', 'DeMar DeRozan','Lebron James', 'jimmy Butler','Giannis Antetokounmpo','Isaiah Thomas', \\\n",
    "'John Wall','Kevin love','Carmelo Anthony', 'Kyle Lowry','Paul George','Kemba Walker','Paul Millsap', \\\n",
    "'Stephen Curry','James Harden','Kevin Durant','Kawhi Leonard','Anthony Davis','Russell Westbrook', \\\n",
    "'Klay Thompson','Draymond Green','DeMarcus Cousins','Marc Gasol',' Deandre Jordan','Gordon Hayward']\n",
    "\n",
    "all_stars_17 = [x.lower() for x in all_stars_17]\n",
    "all_stars_17 = [unidecode.unidecode(x) for x in all_stars_17]\n",
    "nba_17['allstar'] = nba_17['Player'].apply(lambda x: 1 if (any(s.upper() in x.upper() for s in all_stars_17)) else 0)"
   ]
  },
  {
   "cell_type": "markdown",
   "metadata": {},
   "source": [
    "#### 2017 - 2018 Season"
   ]
  },
  {
   "cell_type": "code",
   "execution_count": 5,
   "metadata": {},
   "outputs": [],
   "source": [
    "nba_18 = pd.read_excel(r'NBA 17-18.xlsx')\n",
    "\n",
    "all_stars_18 = ['Kemba Walker','Kyrie Irving','Giannis Antetokounmpo','Joel Embiid','Demar Derozan',\\\n",
    "'Goran Dragic','Al Horford','Kevin Love','Kyle Lowry','Victor Oladipo','John Wall','Bradley Beal',\\\n",
    "'Kristaps Porzingis','Andre Drummond','Stephen Curry', 'James Harden','Kevin Durant','Demarcus Cousins',\\\n",
    "'Paul George','Lebron James','Russell Westbrook','Damian Lillard','Klay Thompson','Anthony Davis',\\\n",
    "    'LaMarcus Aldrige','Draymond Green','Karl-Anthony Towns','Jimmy Butler']\n",
    "    \n",
    "all_stars_18 = [x.lower() for x in all_stars_18]\n",
    "all_stars_18 = [unidecode.unidecode(x) for x in all_stars_18]\n",
    "\n",
    "nba_18['allstar'] = nba_18['Player'].apply(lambda x: 1 if (any(s.upper() in x.upper() for s in all_stars_18)) else 0)"
   ]
  },
  {
   "cell_type": "markdown",
   "metadata": {},
   "source": [
    "#### 2018 - 2019 Season"
   ]
  },
  {
   "cell_type": "code",
   "execution_count": 6,
   "metadata": {},
   "outputs": [],
   "source": [
    "nba_19 = pd.read_excel(r'NBA 18-19.xlsx')\n",
    "\n",
    "all_stars_19 = ['Kemba Walker','Kyrie Irving','Kawhi Leonard','Giannis Antetokounmpo','Joel Embiid',\\\n",
    "'Kyle Lowry','Victor Oladipo','Khris Middleton','Bradley Beal','Ben Simmons','Blake Griffin',\\\n",
    "'Nikola Vučević', 'Dwyane Wade','D''Angelo Russell','Stephen Curry', 'James Harden','Kevin Durant',\\\n",
    "'Paul George','Lebron James','Russell Westbrook','Damian Lillard','Klay Thompson','Anthony Davis',\\\n",
    "    'LaMarcus Aldrige','Nikola Jokic','Karl-Anthony Towns','Dirk Nowitzki']\n",
    "\n",
    "all_stars_19 = [x.lower() for x in all_stars_19]\n",
    "all_stars_19 = [unidecode.unidecode(x) for x in all_stars_19]\n",
    "\n",
    "nba_19['allstar'] = nba_19['Player'].apply(lambda x: 1 if (any(s.upper() in x.upper() for s in all_stars_19)) else 0)"
   ]
  },
  {
   "cell_type": "markdown",
   "metadata": {},
   "source": [
    "#### 2019 - 2020 Season"
   ]
  },
  {
   "cell_type": "code",
   "execution_count": 7,
   "metadata": {},
   "outputs": [],
   "source": [
    "nba_20 = pd.read_excel(r'NBA 19-20.xlsx')\n",
    "\n",
    "all_stars_20 = ['Kemba Walker','Kyrie Irving','Kawhi Leonard','Giannis Antetokounmpo','Joel Embiid',\\\n",
    "'Kyle Lowry','Victor Oladipo','Khris Middleton','Bradley Beal','Ben Simmons','Blake Griffin',\\\n",
    "'Nikola Vučević', 'Dwyane Wade','D''Angelo Russell','Stephen Curry', 'James Harden','Kevin Durant',\\\n",
    "'Paul George','Lebron James','Russell Westbrook','Damian Lillard','Klay Thompson','Anthony Davis',\\\n",
    "    'LaMarcus Aldrige','Nikola Jokic','Karl-Anthony Towns','Dirk Nowitzki']\n",
    "\n",
    "all_stars_20 = [x.lower() for x in all_stars_20]\n",
    "all_stars_20 = [unidecode.unidecode(x) for x in all_stars_20]\n",
    "\n",
    "nba_20['allstar'] = nba_20['Player'].apply(lambda x: 1 if (any(s.upper() in x.upper() for s in all_stars_20)) else 0)"
   ]
  },
  {
   "cell_type": "markdown",
   "metadata": {},
   "source": [
    "#### Merge"
   ]
  },
  {
   "cell_type": "code",
   "execution_count": 8,
   "metadata": {},
   "outputs": [
    {
     "data": {
      "text/html": [
       "<div>\n",
       "<style scoped>\n",
       "    .dataframe tbody tr th:only-of-type {\n",
       "        vertical-align: middle;\n",
       "    }\n",
       "\n",
       "    .dataframe tbody tr th {\n",
       "        vertical-align: top;\n",
       "    }\n",
       "\n",
       "    .dataframe thead th {\n",
       "        text-align: right;\n",
       "    }\n",
       "</style>\n",
       "<table border=\"1\" class=\"dataframe\">\n",
       "  <thead>\n",
       "    <tr style=\"text-align: right;\">\n",
       "      <th></th>\n",
       "      <th>Rk</th>\n",
       "      <th>Player</th>\n",
       "      <th>Pos</th>\n",
       "      <th>Age</th>\n",
       "      <th>Tm</th>\n",
       "      <th>G</th>\n",
       "      <th>GS</th>\n",
       "      <th>MP</th>\n",
       "      <th>FG</th>\n",
       "      <th>FGA</th>\n",
       "      <th>...</th>\n",
       "      <th>ORB</th>\n",
       "      <th>DRB</th>\n",
       "      <th>TRB</th>\n",
       "      <th>AST</th>\n",
       "      <th>STL</th>\n",
       "      <th>BLK</th>\n",
       "      <th>TOV</th>\n",
       "      <th>PF</th>\n",
       "      <th>PTS</th>\n",
       "      <th>allstar</th>\n",
       "    </tr>\n",
       "  </thead>\n",
       "  <tbody>\n",
       "    <tr>\n",
       "      <th>0</th>\n",
       "      <td>1</td>\n",
       "      <td>Quincy Acy\\acyqu01</td>\n",
       "      <td>PF</td>\n",
       "      <td>25</td>\n",
       "      <td>SAC</td>\n",
       "      <td>59</td>\n",
       "      <td>29</td>\n",
       "      <td>14.8</td>\n",
       "      <td>2.0</td>\n",
       "      <td>3.6</td>\n",
       "      <td>...</td>\n",
       "      <td>1.1</td>\n",
       "      <td>2.1</td>\n",
       "      <td>3.2</td>\n",
       "      <td>0.5</td>\n",
       "      <td>0.5</td>\n",
       "      <td>0.4</td>\n",
       "      <td>0.5</td>\n",
       "      <td>1.7</td>\n",
       "      <td>5.2</td>\n",
       "      <td>0</td>\n",
       "    </tr>\n",
       "    <tr>\n",
       "      <th>1</th>\n",
       "      <td>2</td>\n",
       "      <td>Jordan Adams\\adamsjo01</td>\n",
       "      <td>SG</td>\n",
       "      <td>21</td>\n",
       "      <td>MEM</td>\n",
       "      <td>2</td>\n",
       "      <td>0</td>\n",
       "      <td>7.5</td>\n",
       "      <td>1.0</td>\n",
       "      <td>3.0</td>\n",
       "      <td>...</td>\n",
       "      <td>0.0</td>\n",
       "      <td>1.0</td>\n",
       "      <td>1.0</td>\n",
       "      <td>1.5</td>\n",
       "      <td>1.5</td>\n",
       "      <td>0.0</td>\n",
       "      <td>1.0</td>\n",
       "      <td>1.0</td>\n",
       "      <td>3.5</td>\n",
       "      <td>0</td>\n",
       "    </tr>\n",
       "    <tr>\n",
       "      <th>2</th>\n",
       "      <td>3</td>\n",
       "      <td>Steven Adams\\adamsst01</td>\n",
       "      <td>C</td>\n",
       "      <td>22</td>\n",
       "      <td>OKC</td>\n",
       "      <td>80</td>\n",
       "      <td>80</td>\n",
       "      <td>25.2</td>\n",
       "      <td>3.3</td>\n",
       "      <td>5.3</td>\n",
       "      <td>...</td>\n",
       "      <td>2.7</td>\n",
       "      <td>3.9</td>\n",
       "      <td>6.7</td>\n",
       "      <td>0.8</td>\n",
       "      <td>0.5</td>\n",
       "      <td>1.1</td>\n",
       "      <td>1.1</td>\n",
       "      <td>2.8</td>\n",
       "      <td>8.0</td>\n",
       "      <td>0</td>\n",
       "    </tr>\n",
       "    <tr>\n",
       "      <th>3</th>\n",
       "      <td>4</td>\n",
       "      <td>Arron Afflalo\\afflaar01</td>\n",
       "      <td>SG</td>\n",
       "      <td>30</td>\n",
       "      <td>NYK</td>\n",
       "      <td>71</td>\n",
       "      <td>57</td>\n",
       "      <td>33.4</td>\n",
       "      <td>5.0</td>\n",
       "      <td>11.3</td>\n",
       "      <td>...</td>\n",
       "      <td>0.3</td>\n",
       "      <td>3.4</td>\n",
       "      <td>3.7</td>\n",
       "      <td>2.0</td>\n",
       "      <td>0.4</td>\n",
       "      <td>0.1</td>\n",
       "      <td>1.2</td>\n",
       "      <td>2.0</td>\n",
       "      <td>12.8</td>\n",
       "      <td>0</td>\n",
       "    </tr>\n",
       "    <tr>\n",
       "      <th>4</th>\n",
       "      <td>5</td>\n",
       "      <td>Alexis Ajinça\\ajincal01</td>\n",
       "      <td>C</td>\n",
       "      <td>27</td>\n",
       "      <td>NOP</td>\n",
       "      <td>59</td>\n",
       "      <td>17</td>\n",
       "      <td>14.6</td>\n",
       "      <td>2.5</td>\n",
       "      <td>5.3</td>\n",
       "      <td>...</td>\n",
       "      <td>1.3</td>\n",
       "      <td>3.3</td>\n",
       "      <td>4.6</td>\n",
       "      <td>0.5</td>\n",
       "      <td>0.3</td>\n",
       "      <td>0.6</td>\n",
       "      <td>0.9</td>\n",
       "      <td>2.3</td>\n",
       "      <td>6.0</td>\n",
       "      <td>0</td>\n",
       "    </tr>\n",
       "  </tbody>\n",
       "</table>\n",
       "<p>5 rows × 31 columns</p>\n",
       "</div>"
      ],
      "text/plain": [
       "   Rk                   Player Pos  Age   Tm   G  GS    MP   FG   FGA  ...  \\\n",
       "0   1       Quincy Acy\\acyqu01  PF   25  SAC  59  29  14.8  2.0   3.6  ...   \n",
       "1   2   Jordan Adams\\adamsjo01  SG   21  MEM   2   0   7.5  1.0   3.0  ...   \n",
       "2   3   Steven Adams\\adamsst01   C   22  OKC  80  80  25.2  3.3   5.3  ...   \n",
       "3   4  Arron Afflalo\\afflaar01  SG   30  NYK  71  57  33.4  5.0  11.3  ...   \n",
       "4   5  Alexis Ajinça\\ajincal01   C   27  NOP  59  17  14.6  2.5   5.3  ...   \n",
       "\n",
       "   ORB  DRB  TRB  AST  STL  BLK  TOV   PF   PTS  allstar  \n",
       "0  1.1  2.1  3.2  0.5  0.5  0.4  0.5  1.7   5.2        0  \n",
       "1  0.0  1.0  1.0  1.5  1.5  0.0  1.0  1.0   3.5        0  \n",
       "2  2.7  3.9  6.7  0.8  0.5  1.1  1.1  2.8   8.0        0  \n",
       "3  0.3  3.4  3.7  2.0  0.4  0.1  1.2  2.0  12.8        0  \n",
       "4  1.3  3.3  4.6  0.5  0.3  0.6  0.9  2.3   6.0        0  \n",
       "\n",
       "[5 rows x 31 columns]"
      ]
     },
     "execution_count": 8,
     "metadata": {},
     "output_type": "execute_result"
    }
   ],
   "source": [
    "nba = nba_16.append([nba_17,nba_18,nba_19,nba_20])\n",
    "nba.head()"
   ]
  },
  {
   "cell_type": "markdown",
   "metadata": {},
   "source": [
    "#### Check All-Stars"
   ]
  },
  {
   "cell_type": "code",
   "execution_count": 9,
   "metadata": {},
   "outputs": [
    {
     "data": {
      "text/html": [
       "<div>\n",
       "<style scoped>\n",
       "    .dataframe tbody tr th:only-of-type {\n",
       "        vertical-align: middle;\n",
       "    }\n",
       "\n",
       "    .dataframe tbody tr th {\n",
       "        vertical-align: top;\n",
       "    }\n",
       "\n",
       "    .dataframe thead th {\n",
       "        text-align: right;\n",
       "    }\n",
       "</style>\n",
       "<table border=\"1\" class=\"dataframe\">\n",
       "  <thead>\n",
       "    <tr style=\"text-align: right;\">\n",
       "      <th></th>\n",
       "      <th>Rk</th>\n",
       "      <th>Player</th>\n",
       "      <th>Pos</th>\n",
       "      <th>Age</th>\n",
       "      <th>Tm</th>\n",
       "      <th>G</th>\n",
       "      <th>GS</th>\n",
       "      <th>MP</th>\n",
       "      <th>FG</th>\n",
       "      <th>FGA</th>\n",
       "      <th>...</th>\n",
       "      <th>ORB</th>\n",
       "      <th>DRB</th>\n",
       "      <th>TRB</th>\n",
       "      <th>AST</th>\n",
       "      <th>STL</th>\n",
       "      <th>BLK</th>\n",
       "      <th>TOV</th>\n",
       "      <th>PF</th>\n",
       "      <th>PTS</th>\n",
       "      <th>allstar</th>\n",
       "    </tr>\n",
       "  </thead>\n",
       "  <tbody>\n",
       "    <tr>\n",
       "      <th>6</th>\n",
       "      <td>7</td>\n",
       "      <td>LaMarcus Aldridge\\aldrila01</td>\n",
       "      <td>PF</td>\n",
       "      <td>30</td>\n",
       "      <td>SAS</td>\n",
       "      <td>74</td>\n",
       "      <td>74</td>\n",
       "      <td>30.6</td>\n",
       "      <td>7.2</td>\n",
       "      <td>14.1</td>\n",
       "      <td>...</td>\n",
       "      <td>2.4</td>\n",
       "      <td>6.2</td>\n",
       "      <td>8.5</td>\n",
       "      <td>1.5</td>\n",
       "      <td>0.5</td>\n",
       "      <td>1.1</td>\n",
       "      <td>1.3</td>\n",
       "      <td>2.0</td>\n",
       "      <td>18.0</td>\n",
       "      <td>1</td>\n",
       "    </tr>\n",
       "    <tr>\n",
       "      <th>22</th>\n",
       "      <td>21</td>\n",
       "      <td>Carmelo Anthony\\anthoca01</td>\n",
       "      <td>SF</td>\n",
       "      <td>31</td>\n",
       "      <td>NYK</td>\n",
       "      <td>72</td>\n",
       "      <td>72</td>\n",
       "      <td>35.1</td>\n",
       "      <td>7.9</td>\n",
       "      <td>18.2</td>\n",
       "      <td>...</td>\n",
       "      <td>1.4</td>\n",
       "      <td>6.4</td>\n",
       "      <td>7.7</td>\n",
       "      <td>4.2</td>\n",
       "      <td>0.9</td>\n",
       "      <td>0.5</td>\n",
       "      <td>2.4</td>\n",
       "      <td>2.5</td>\n",
       "      <td>21.8</td>\n",
       "      <td>1</td>\n",
       "    </tr>\n",
       "    <tr>\n",
       "      <th>61</th>\n",
       "      <td>58</td>\n",
       "      <td>Chris Bosh\\boshch01</td>\n",
       "      <td>PF</td>\n",
       "      <td>31</td>\n",
       "      <td>MIA</td>\n",
       "      <td>53</td>\n",
       "      <td>53</td>\n",
       "      <td>33.5</td>\n",
       "      <td>6.8</td>\n",
       "      <td>14.5</td>\n",
       "      <td>...</td>\n",
       "      <td>0.9</td>\n",
       "      <td>6.5</td>\n",
       "      <td>7.4</td>\n",
       "      <td>2.4</td>\n",
       "      <td>0.7</td>\n",
       "      <td>0.6</td>\n",
       "      <td>1.5</td>\n",
       "      <td>1.9</td>\n",
       "      <td>19.1</td>\n",
       "      <td>1</td>\n",
       "    </tr>\n",
       "    <tr>\n",
       "      <th>69</th>\n",
       "      <td>66</td>\n",
       "      <td>Kobe Bryant\\bryanko01</td>\n",
       "      <td>SF</td>\n",
       "      <td>37</td>\n",
       "      <td>LAL</td>\n",
       "      <td>66</td>\n",
       "      <td>66</td>\n",
       "      <td>28.2</td>\n",
       "      <td>6.0</td>\n",
       "      <td>16.9</td>\n",
       "      <td>...</td>\n",
       "      <td>0.6</td>\n",
       "      <td>3.1</td>\n",
       "      <td>3.7</td>\n",
       "      <td>2.8</td>\n",
       "      <td>0.9</td>\n",
       "      <td>0.2</td>\n",
       "      <td>2.0</td>\n",
       "      <td>1.7</td>\n",
       "      <td>17.6</td>\n",
       "      <td>1</td>\n",
       "    </tr>\n",
       "    <tr>\n",
       "      <th>77</th>\n",
       "      <td>72</td>\n",
       "      <td>Jimmy Butler\\butleji01</td>\n",
       "      <td>SG</td>\n",
       "      <td>26</td>\n",
       "      <td>CHI</td>\n",
       "      <td>67</td>\n",
       "      <td>67</td>\n",
       "      <td>36.9</td>\n",
       "      <td>7.0</td>\n",
       "      <td>15.4</td>\n",
       "      <td>...</td>\n",
       "      <td>1.2</td>\n",
       "      <td>4.2</td>\n",
       "      <td>5.3</td>\n",
       "      <td>4.8</td>\n",
       "      <td>1.6</td>\n",
       "      <td>0.6</td>\n",
       "      <td>2.0</td>\n",
       "      <td>1.9</td>\n",
       "      <td>20.9</td>\n",
       "      <td>1</td>\n",
       "    </tr>\n",
       "    <tr>\n",
       "      <th>...</th>\n",
       "      <td>...</td>\n",
       "      <td>...</td>\n",
       "      <td>...</td>\n",
       "      <td>...</td>\n",
       "      <td>...</td>\n",
       "      <td>...</td>\n",
       "      <td>...</td>\n",
       "      <td>...</td>\n",
       "      <td>...</td>\n",
       "      <td>...</td>\n",
       "      <td>...</td>\n",
       "      <td>...</td>\n",
       "      <td>...</td>\n",
       "      <td>...</td>\n",
       "      <td>...</td>\n",
       "      <td>...</td>\n",
       "      <td>...</td>\n",
       "      <td>...</td>\n",
       "      <td>...</td>\n",
       "      <td>...</td>\n",
       "      <td>...</td>\n",
       "    </tr>\n",
       "    <tr>\n",
       "      <th>373</th>\n",
       "      <td>294</td>\n",
       "      <td>Kawhi Leonard</td>\n",
       "      <td>SF</td>\n",
       "      <td>28</td>\n",
       "      <td>LAC</td>\n",
       "      <td>57</td>\n",
       "      <td>57</td>\n",
       "      <td>1848.0</td>\n",
       "      <td>532.0</td>\n",
       "      <td>1133.0</td>\n",
       "      <td>...</td>\n",
       "      <td>54.0</td>\n",
       "      <td>348.0</td>\n",
       "      <td>402.0</td>\n",
       "      <td>280.0</td>\n",
       "      <td>103.0</td>\n",
       "      <td>33.0</td>\n",
       "      <td>149.0</td>\n",
       "      <td>113.0</td>\n",
       "      <td>1543.0</td>\n",
       "      <td>1</td>\n",
       "    </tr>\n",
       "    <tr>\n",
       "      <th>376</th>\n",
       "      <td>297</td>\n",
       "      <td>Damian Lillard</td>\n",
       "      <td>PG</td>\n",
       "      <td>29</td>\n",
       "      <td>POR</td>\n",
       "      <td>66</td>\n",
       "      <td>66</td>\n",
       "      <td>2474.0</td>\n",
       "      <td>624.0</td>\n",
       "      <td>1349.0</td>\n",
       "      <td>...</td>\n",
       "      <td>33.0</td>\n",
       "      <td>251.0</td>\n",
       "      <td>284.0</td>\n",
       "      <td>530.0</td>\n",
       "      <td>70.0</td>\n",
       "      <td>22.0</td>\n",
       "      <td>194.0</td>\n",
       "      <td>114.0</td>\n",
       "      <td>1978.0</td>\n",
       "      <td>1</td>\n",
       "    </tr>\n",
       "    <tr>\n",
       "      <th>382</th>\n",
       "      <td>303</td>\n",
       "      <td>Kyle Lowry</td>\n",
       "      <td>PG</td>\n",
       "      <td>33</td>\n",
       "      <td>TOR</td>\n",
       "      <td>58</td>\n",
       "      <td>58</td>\n",
       "      <td>2098.0</td>\n",
       "      <td>334.0</td>\n",
       "      <td>803.0</td>\n",
       "      <td>...</td>\n",
       "      <td>32.0</td>\n",
       "      <td>260.0</td>\n",
       "      <td>292.0</td>\n",
       "      <td>433.0</td>\n",
       "      <td>82.0</td>\n",
       "      <td>26.0</td>\n",
       "      <td>178.0</td>\n",
       "      <td>190.0</td>\n",
       "      <td>1126.0</td>\n",
       "      <td>1</td>\n",
       "    </tr>\n",
       "    <tr>\n",
       "      <th>418</th>\n",
       "      <td>336</td>\n",
       "      <td>Khris Middleton</td>\n",
       "      <td>SF</td>\n",
       "      <td>28</td>\n",
       "      <td>MIL</td>\n",
       "      <td>62</td>\n",
       "      <td>59</td>\n",
       "      <td>1853.0</td>\n",
       "      <td>471.0</td>\n",
       "      <td>947.0</td>\n",
       "      <td>...</td>\n",
       "      <td>44.0</td>\n",
       "      <td>338.0</td>\n",
       "      <td>382.0</td>\n",
       "      <td>265.0</td>\n",
       "      <td>53.0</td>\n",
       "      <td>7.0</td>\n",
       "      <td>137.0</td>\n",
       "      <td>142.0</td>\n",
       "      <td>1297.0</td>\n",
       "      <td>1</td>\n",
       "    </tr>\n",
       "    <tr>\n",
       "      <th>473</th>\n",
       "      <td>383</td>\n",
       "      <td>Victor Oladipo</td>\n",
       "      <td>SG</td>\n",
       "      <td>27</td>\n",
       "      <td>IND</td>\n",
       "      <td>19</td>\n",
       "      <td>16</td>\n",
       "      <td>528.0</td>\n",
       "      <td>97.0</td>\n",
       "      <td>246.0</td>\n",
       "      <td>...</td>\n",
       "      <td>9.0</td>\n",
       "      <td>66.0</td>\n",
       "      <td>75.0</td>\n",
       "      <td>56.0</td>\n",
       "      <td>17.0</td>\n",
       "      <td>4.0</td>\n",
       "      <td>47.0</td>\n",
       "      <td>36.0</td>\n",
       "      <td>275.0</td>\n",
       "      <td>1</td>\n",
       "    </tr>\n",
       "  </tbody>\n",
       "</table>\n",
       "<p>114 rows × 31 columns</p>\n",
       "</div>"
      ],
      "text/plain": [
       "      Rk                       Player Pos  Age   Tm   G  GS      MP     FG  \\\n",
       "6      7  LaMarcus Aldridge\\aldrila01  PF   30  SAS  74  74    30.6    7.2   \n",
       "22    21    Carmelo Anthony\\anthoca01  SF   31  NYK  72  72    35.1    7.9   \n",
       "61    58          Chris Bosh\\boshch01  PF   31  MIA  53  53    33.5    6.8   \n",
       "69    66        Kobe Bryant\\bryanko01  SF   37  LAL  66  66    28.2    6.0   \n",
       "77    72       Jimmy Butler\\butleji01  SG   26  CHI  67  67    36.9    7.0   \n",
       "..   ...                          ...  ..  ...  ...  ..  ..     ...    ...   \n",
       "373  294                Kawhi Leonard  SF   28  LAC  57  57  1848.0  532.0   \n",
       "376  297               Damian Lillard  PG   29  POR  66  66  2474.0  624.0   \n",
       "382  303                   Kyle Lowry  PG   33  TOR  58  58  2098.0  334.0   \n",
       "418  336              Khris Middleton  SF   28  MIL  62  59  1853.0  471.0   \n",
       "473  383               Victor Oladipo  SG   27  IND  19  16   528.0   97.0   \n",
       "\n",
       "        FGA  ...   ORB    DRB    TRB    AST    STL   BLK    TOV     PF  \\\n",
       "6      14.1  ...   2.4    6.2    8.5    1.5    0.5   1.1    1.3    2.0   \n",
       "22     18.2  ...   1.4    6.4    7.7    4.2    0.9   0.5    2.4    2.5   \n",
       "61     14.5  ...   0.9    6.5    7.4    2.4    0.7   0.6    1.5    1.9   \n",
       "69     16.9  ...   0.6    3.1    3.7    2.8    0.9   0.2    2.0    1.7   \n",
       "77     15.4  ...   1.2    4.2    5.3    4.8    1.6   0.6    2.0    1.9   \n",
       "..      ...  ...   ...    ...    ...    ...    ...   ...    ...    ...   \n",
       "373  1133.0  ...  54.0  348.0  402.0  280.0  103.0  33.0  149.0  113.0   \n",
       "376  1349.0  ...  33.0  251.0  284.0  530.0   70.0  22.0  194.0  114.0   \n",
       "382   803.0  ...  32.0  260.0  292.0  433.0   82.0  26.0  178.0  190.0   \n",
       "418   947.0  ...  44.0  338.0  382.0  265.0   53.0   7.0  137.0  142.0   \n",
       "473   246.0  ...   9.0   66.0   75.0   56.0   17.0   4.0   47.0   36.0   \n",
       "\n",
       "        PTS  allstar  \n",
       "6      18.0        1  \n",
       "22     21.8        1  \n",
       "61     19.1        1  \n",
       "69     17.6        1  \n",
       "77     20.9        1  \n",
       "..      ...      ...  \n",
       "373  1543.0        1  \n",
       "376  1978.0        1  \n",
       "382  1126.0        1  \n",
       "418  1297.0        1  \n",
       "473   275.0        1  \n",
       "\n",
       "[114 rows x 31 columns]"
      ]
     },
     "execution_count": 9,
     "metadata": {},
     "output_type": "execute_result"
    }
   ],
   "source": [
    "nba[nba.allstar==1]"
   ]
  },
  {
   "cell_type": "markdown",
   "metadata": {},
   "source": [
    "#### You can see the names of the players have codes, which we dont want. Lets Clean the player column so that it only has the names to the left of the slash"
   ]
  },
  {
   "cell_type": "code",
   "execution_count": 10,
   "metadata": {},
   "outputs": [
    {
     "name": "stdout",
     "output_type": "stream",
     "text": [
      "                    Player   Player_clean\n",
      "0       Quincy Acy\\acyqu01     Quincy Acy\n",
      "1   Jordan Adams\\adamsjo01   Jordan Adams\n",
      "2   Steven Adams\\adamsst01   Steven Adams\n",
      "3  Arron Afflalo\\afflaar01  Arron Afflalo\n",
      "4  Alexis Ajinça\\ajincal01  Alexis Ajinça\n"
     ]
    }
   ],
   "source": [
    "nba['Index'] = nba['Player'].str.find('\\\\')\n",
    "nba['Player_clean'] = nba.apply(lambda x: x['Player'][0:x['Index']], axis=1)\n",
    "print(nba[['Player', 'Player_clean']].head())"
   ]
  },
  {
   "cell_type": "markdown",
   "metadata": {},
   "source": [
    "#### Now, let's get rid of the accents"
   ]
  },
  {
   "cell_type": "code",
   "execution_count": 11,
   "metadata": {},
   "outputs": [
    {
     "name": "stdout",
     "output_type": "stream",
     "text": [
      "                       Player     Player_clean\n",
      "548    Dion Waiters\\waitedi01     Dion Waiters\n",
      "256          Tim Hardaway Jr.  Tim Hardaway Jr\n",
      "134             Chris Clemons     Chris Clemon\n",
      "320           Amile Jefferson   Amile Jefferso\n",
      "628  Caleb Swanigan\\swanica01   Caleb Swanigan\n",
      "75       Alec Burks\\burksal01       Alec Burks\n",
      "637    Lou Williams\\willilo02     Lou Williams\n",
      "115       Ian Clark\\clarkia01        Ian Clark\n",
      "181     Luka Dončić\\doncilu01      Luka Doncic\n",
      "490             Elfrid Payton     Elfrid Payto\n"
     ]
    }
   ],
   "source": [
    "nba['Player_clean'] = nba['Player_clean'].apply(lambda x: unidecode.unidecode(x))\n",
    "print(nba[['Player', 'Player_clean']].sample(10))"
   ]
  },
  {
   "cell_type": "markdown",
   "metadata": {},
   "source": [
    "## 2021 Season"
   ]
  },
  {
   "cell_type": "markdown",
   "metadata": {},
   "source": [
    "#### Make a list of the names of the 2021 all-stars (info I got from Wikipedia): this will just be for reference, since we'll be trying to predict who should've been a 2021 all-star"
   ]
  },
  {
   "cell_type": "code",
   "execution_count": 12,
   "metadata": {},
   "outputs": [],
   "source": [
    "all_stars_21 = ['Kyrie Irving','Kawhi Leonard','Giannis Antetokounmpo','Joel Embiid',\\\n",
    "'Bradley Beal','Ben Simmons','Nikola Vučević', 'Stephen Curry', 'James Harden','Kevin Durant',\\\n",
    "'Paul George','LeBron James','Damian Lillard','Anthony Davis','Jaylen Brown','Zach LaVine','Julius Randle',\\\n",
    "'Domantas Sabonis','Jayson Tatum','Luka Doncic','Devin Booker','Mike Conley Jr.','Donovan Mitchell','Chris Paul',\\\n",
    " 'Zion Williamson','Rudy Gobert','Nikola Jokic']\n",
    "\n",
    "all_stars_21 = [x.lower() for x in all_stars_21]\n",
    "all_stars_21 = [unidecode.unidecode(x) for x in all_stars_21]"
   ]
  },
  {
   "cell_type": "code",
   "execution_count": 13,
   "metadata": {},
   "outputs": [],
   "source": [
    "nba_21 = pd.read_excel(r'NBA 20-21.xlsx')\n",
    "nba_21['Index'] = nba_21['Player'].str.find('\\\\')\n",
    "nba_21['Player_clean'] = nba_21.apply(lambda x: x['Player'][0:x['Index']], axis=1)\n",
    "nba_21['Player_clean'] = nba_21['Player_clean'].apply(lambda x: unidecode.unidecode(x))\n",
    "\n",
    "nba_21['allstar'] =nba_21['Player'].apply(lambda x: 1 if (any(s.upper() in x.upper() for s in all_stars_21)) else 0)"
   ]
  },
  {
   "cell_type": "markdown",
   "metadata": {},
   "source": [
    "#### Let's check to see if it worked: we'll view the whole row of Lebron James, who was named an all-star. If it worked, then his \"allstar\" column should be 1"
   ]
  },
  {
   "cell_type": "code",
   "execution_count": 14,
   "metadata": {},
   "outputs": [
    {
     "name": "stdout",
     "output_type": "stream",
     "text": [
      "      Rk                  Player Pos  Age   Tm   G  GS    MP    FG   FGA  ...  \\\n",
      "264  221  LeBron James\\jamesle01  SF   31  CLE  76  76  35.6   9.7  18.6  ...   \n",
      "269  220  LeBron James\\jamesle01  SF   32  CLE  74  74  37.8   9.9  18.2  ...   \n",
      "303  248  LeBron James\\jamesle01  PF   33  CLE  82  82  36.9  10.5  19.3  ...   \n",
      "332  258  LeBron James\\jamesle01  SF   34  LAL  55  55  35.2  10.1  19.9  ...   \n",
      "\n",
      "     TRB  AST  STL  BLK  TOV   PF   PTS  allstar  Index  Player_clean  \n",
      "264  7.4  6.8  1.4  0.6  3.3  1.9  25.3        1     12  LeBron James  \n",
      "269  8.6  8.7  1.2  0.6  4.1  1.8  26.4        1     12  LeBron James  \n",
      "303  8.6  9.1  1.4  0.9  4.2  1.7  27.5        1     12  LeBron James  \n",
      "332  8.5  8.3  1.3  0.6  3.6  1.7  27.4        1     12  LeBron James  \n",
      "\n",
      "[4 rows x 33 columns]\n"
     ]
    }
   ],
   "source": [
    "print(nba[nba['Player_clean']=='LeBron James'])"
   ]
  },
  {
   "cell_type": "code",
   "execution_count": 15,
   "metadata": {},
   "outputs": [],
   "source": [
    "#fill nas with 0 so we can train the model\n",
    "nba['allstar'] = nba.allstar.fillna(0)"
   ]
  },
  {
   "cell_type": "markdown",
   "metadata": {},
   "source": [
    "## Train"
   ]
  },
  {
   "cell_type": "markdown",
   "metadata": {},
   "source": [
    "#### Now, lets drop columns that we don't want, and define our x variables and y variable"
   ]
  },
  {
   "cell_type": "code",
   "execution_count": 16,
   "metadata": {},
   "outputs": [],
   "source": [
    "df = nba[['Age','G', 'GS', 'MP', 'FG%', '3P%', 'eFG%', 'FTA', 'FT%','TRB', 'AST', 'STL', 'BLK', 'TOV', 'PF', 'PTS','allstar']]\n",
    "\n",
    "X = df[['Age','G', 'GS', 'MP', 'FG%', '3P%', 'eFG%', 'FTA', 'FT%','TRB', 'AST', 'STL', 'BLK', 'TOV', 'PF', 'PTS']]\n",
    "Y = df[['allstar']]"
   ]
  },
  {
   "cell_type": "markdown",
   "metadata": {},
   "source": [
    "#### Split data into train and test sets: test size will be 33%"
   ]
  },
  {
   "cell_type": "code",
   "execution_count": 17,
   "metadata": {},
   "outputs": [],
   "source": [
    "seed = 7\n",
    "test_size = 0.33\n",
    "X_train, X_test, y_train, y_test = train_test_split(X, Y, test_size=test_size, random_state=seed)"
   ]
  },
  {
   "cell_type": "markdown",
   "metadata": {},
   "source": [
    "#### Fit model to our data"
   ]
  },
  {
   "cell_type": "code",
   "execution_count": 18,
   "metadata": {},
   "outputs": [
    {
     "name": "stderr",
     "output_type": "stream",
     "text": [
      "C:\\Users\\Public\\wd\\envs\\cbdashboard\\lib\\site-packages\\sklearn\\preprocessing\\_label.py:235: DataConversionWarning: A column-vector y was passed when a 1d array was expected. Please change the shape of y to (n_samples, ), for example using ravel().\n",
      "  y = column_or_1d(y, warn=True)\n",
      "C:\\Users\\Public\\wd\\envs\\cbdashboard\\lib\\site-packages\\sklearn\\preprocessing\\_label.py:268: DataConversionWarning: A column-vector y was passed when a 1d array was expected. Please change the shape of y to (n_samples, ), for example using ravel().\n",
      "  y = column_or_1d(y, warn=True)\n"
     ]
    },
    {
     "data": {
      "text/plain": [
       "XGBClassifier(base_score=0.5, booster='gbtree', colsample_bylevel=1,\n",
       "              colsample_bynode=1, colsample_bytree=1, gamma=0, gpu_id=-1,\n",
       "              importance_type='gain', interaction_constraints='',\n",
       "              learning_rate=0.300000012, max_delta_step=0, max_depth=6,\n",
       "              min_child_weight=1, missing=nan, monotone_constraints='()',\n",
       "              n_estimators=100, n_jobs=0, num_parallel_tree=1,\n",
       "              objective='binary:logistic', random_state=0, reg_alpha=0,\n",
       "              reg_lambda=1, scale_pos_weight=1, subsample=1,\n",
       "              tree_method='exact', validate_parameters=1, verbosity=None)"
      ]
     },
     "execution_count": 18,
     "metadata": {},
     "output_type": "execute_result"
    }
   ],
   "source": [
    "model = XGBClassifier()\n",
    "model.fit(X_train, y_train)"
   ]
  },
  {
   "cell_type": "markdown",
   "metadata": {},
   "source": [
    "#### Make predictions!"
   ]
  },
  {
   "cell_type": "code",
   "execution_count": 19,
   "metadata": {},
   "outputs": [],
   "source": [
    "y_pred = model.predict(X_test)\n",
    "predictions = [round(value) for value in y_pred]"
   ]
  },
  {
   "cell_type": "markdown",
   "metadata": {},
   "source": [
    "#### Evaluate said predictions"
   ]
  },
  {
   "cell_type": "code",
   "execution_count": 20,
   "metadata": {},
   "outputs": [
    {
     "name": "stdout",
     "output_type": "stream",
     "text": [
      "Accuracy: 98.21%\n"
     ]
    }
   ],
   "source": [
    "accuracy = accuracy_score(y_test, predictions)\n",
    "print(\"Accuracy: %.2f%%\" % (accuracy * 100.0))"
   ]
  },
  {
   "cell_type": "markdown",
   "metadata": {},
   "source": [
    "#### Looks like an accurate model, wow! Before we get too excited, let's test it with new data: the 2021 season"
   ]
  },
  {
   "cell_type": "code",
   "execution_count": 21,
   "metadata": {},
   "outputs": [
    {
     "name": "stdout",
     "output_type": "stream",
     "text": [
      "   Rk                       Player Pos  Age   Tm   G  GS    MP   FG   FGA  \\\n",
      "0   1   Precious Achiuwa\\achiupr01  PF   21  MIA  38   2  13.4  2.3   3.9   \n",
      "1   2       Jaylen Adams\\adamsja01  PG   24  MIL   7   0   2.6  0.1   1.1   \n",
      "2   3       Steven Adams\\adamsst01   C   27  NOP  36  36  27.4  3.6   5.7   \n",
      "3   4        Bam Adebayo\\adebaba01   C   23  MIA  33  33  33.9  7.2  12.7   \n",
      "4   5  LaMarcus Aldridge\\aldrila01   C   35  SAS  21  18  25.9  5.5  11.8   \n",
      "\n",
      "   ...  TRB  AST  STL  BLK  TOV   PF   PTS  Index       Player_clean  allstar  \n",
      "0  ...  3.8  0.5  0.4  0.5  0.9  1.6   5.7     16   Precious Achiuwa        0  \n",
      "1  ...  0.4  0.3  0.0  0.0  0.0  0.1   0.3     12       Jaylen Adams        0  \n",
      "2  ...  9.2  2.0  0.9  0.6  1.5  1.8   8.3     12       Steven Adams        0  \n",
      "3  ...  9.5  5.4  0.9  1.0  3.0  2.4  19.2     11        Bam Adebayo        0  \n",
      "4  ...  4.5  1.7  0.4  0.9  1.0  1.7  13.7     17  LaMarcus Aldridge        0  \n",
      "\n",
      "[5 rows x 33 columns]\n"
     ]
    }
   ],
   "source": [
    "#2020\n",
    "print(nba_21.head())"
   ]
  },
  {
   "cell_type": "markdown",
   "metadata": {},
   "source": [
    "#### First, lets see who the model predicts will be an all-star"
   ]
  },
  {
   "cell_type": "code",
   "execution_count": 22,
   "metadata": {},
   "outputs": [
    {
     "name": "stdout",
     "output_type": "stream",
     "text": [
      "      Rk                   Player Pos  Age   Tm   G  GS    MP   FG   FGA  ...  \\\n",
      "79    78   Jimmy Butler\\butleji01  SF   31  MIA  25  25  33.4  6.8  14.6  ...   \n",
      "112  109  Stephen Curry\\curryst01  PG   32  GSW  37  37  34.0  9.7  20.4  ...   \n",
      "132  129   Kevin Durant\\duranke01  PF   32  BRK  19  18  35.7  9.9  18.9  ...   \n",
      "190  185   James Harden\\hardeja01  PG   31  BRK  25  25  38.4  8.2  16.7  ...   \n",
      "\n",
      "      AST  STL  BLK  TOV   PF   PTS  Index   Player_clean  allstar  predict  \n",
      "79    8.0  2.2  0.4  2.2  1.2  21.4     12   Jimmy Butler        0        1  \n",
      "112   6.3  1.3  0.1  3.1  1.8  29.3     13  Stephen Curry        1        1  \n",
      "132   5.3  0.7  1.4  3.5  2.3  29.0     12   Kevin Durant        1        1  \n",
      "190  11.2  1.3  0.8  4.3  2.4  25.3     12   James Harden        1        1  \n",
      "\n",
      "[4 rows x 34 columns]\n"
     ]
    }
   ],
   "source": [
    "X_21 = nba_21[['Age','G', 'GS', 'MP', 'FG%', '3P%', 'eFG%', 'FTA', 'FT%','TRB', 'AST', 'STL', 'BLK', 'TOV', 'PF', 'PTS']]\n",
    "\n",
    "allstar_predictions_21 = model.predict(X_21)\n",
    "nba_21['predict'] = allstar_predictions_21\n",
    "print(nba_21[nba_21.predict==1])"
   ]
  },
  {
   "cell_type": "markdown",
   "metadata": {},
   "source": [
    "#### It only predicts four players will be all-stars, and one (Jimmy Butler) wasn't named one!"
   ]
  },
  {
   "cell_type": "markdown",
   "metadata": {},
   "source": [
    "### Why is our model performing poorly?"
   ]
  },
  {
   "cell_type": "markdown",
   "metadata": {},
   "source": [
    "#### For one, we're not being selective with variables: since the all-star game just occurred and I don't want the season's second half data to influence who gets the all-star nod, I'm being lazy with variables. To build a better model, we should look at an AUC curve to see which variables are most important."
   ]
  },
  {
   "cell_type": "markdown",
   "metadata": {},
   "source": [
    "#### Second, our data could use some resampling: we'd likely see better results if we had more all-star observations in the dataset. "
   ]
  },
  {
   "cell_type": "markdown",
   "metadata": {},
   "source": [
    "### For now, let's rely on the predict_proba attribute of our model: it'll rank the top players who should be an all-star. The probabilities will likely be low, but it'll give us a rough hierarchy of who (the model thinks) should be selected "
   ]
  },
  {
   "cell_type": "code",
   "execution_count": 23,
   "metadata": {},
   "outputs": [
    {
     "name": "stdout",
     "output_type": "stream",
     "text": [
      "                Player_clean  allstar     proba\n",
      "190             James Harden        1  0.681808\n",
      "132             Kevin Durant        1  0.672264\n",
      "79              Jimmy Butler        0  0.535551\n",
      "112            Stephen Curry        1  0.520354\n",
      "236             LeBron James        1  0.449985\n",
      "486           Nikola Vucevic        1  0.449899\n",
      "188             James Harden        1  0.426362\n",
      "138              Joel Embiid        1  0.410265\n",
      "279            Kawhi Leonard        1  0.391306\n",
      "285           Damian Lillard        1  0.318925\n",
      "491                John Wall        0  0.280085\n",
      "189             James Harden        1  0.214133\n",
      "38              Bradley Beal        1  0.160426\n",
      "13     Giannis Antetokounmpo        1  0.152935\n",
      "499        Russell Westbrook        0  0.134119\n",
      "163              Paul George        1  0.105345\n",
      "114            Anthony Davis        1  0.087201\n",
      "166  Shai Gilgeous-Alexander        0  0.076169\n",
      "197            Tobias Harris        0  0.066939\n",
      "475       Karl-Anthony Towns        0  0.066064\n",
      "203           Gordon Hayward        0  0.062631\n",
      "228           Brandon Ingram        0  0.055693\n",
      "408            Julius Randle        1  0.050238\n",
      "171              Eric Gordon        0  0.047190\n",
      "117            DeMar DeRozan        0  0.040722\n",
      "245             Nikola Jokic        1  0.040593\n",
      "271              Zach LaVine        1  0.035170\n",
      "489             Kemba Walker        0  0.031885\n",
      "123              Luka Doncic        1  0.017486\n",
      "368           Victor Oladipo        0  0.015648\n",
      "175           Draymond Green        0  0.015166\n",
      "442              Ben Simmons        1  0.011939\n",
      "53          Bojan Bogdanovic        0  0.011511\n",
      "173             Jerami Grant        0  0.011172\n",
      "58              Devin Booker        1  0.009199\n",
      "70              Jaylen Brown        1  0.007426\n",
      "153             De'Aaron Fox        0  0.005039\n",
      "430         Domantas Sabonis        1  0.004486\n",
      "226           Andre Iguodala        0  0.004471\n",
      "8              Jarrett Allen        0  0.004346\n",
      "333         Donovan Mitchell        1  0.004292\n",
      "510          Zion Williamson        1  0.004172\n",
      "520               Trae Young        0  0.004058\n",
      "30           Harrison Barnes        0  0.003522\n",
      "516           Christian Wood        0  0.003342\n",
      "3                Bam Adebayo        0  0.003333\n",
      "440            Pascal Siakam        0  0.003284\n",
      "180            Blake Griffin        0  0.003220\n",
      "437            Collin Sexton        0  0.003114\n",
      "313              CJ McCollum        0  0.003082\n"
     ]
    }
   ],
   "source": [
    "proba_21 = model.predict_proba(X_21)\n",
    "nba_21['proba'] = proba_21.T[1]\n",
    "print(nba_21[['Player_clean','allstar','proba']].sort_values(by=['proba','allstar'], ascending=False)[:50])"
   ]
  },
  {
   "cell_type": "markdown",
   "metadata": {},
   "source": [
    "### First thing I notice: the probabilities quickly drop off. As we know, this means our model could be MUCH stronger, but using predict_proba will still give us that good hierarchy of who is most deserving. Since at the end of the day, the top players--regardless of if they're on average performing better or worse than prior years--will be selected, I'll accept this method."
   ]
  },
  {
   "cell_type": "markdown",
   "metadata": {},
   "source": [
    "### Second, it looks like our model thinks Jimmy Butler, John Wall, and Russell Westbrook we're snubbed, while it thinks Zion Williamson & Donovan Mitchell weren't deserving."
   ]
  },
  {
   "cell_type": "markdown",
   "metadata": {},
   "source": [
    "#### What our model doesn't consider is win percentage: the teams that Butler, Wall, and Westbrook play for--the Heat, Rockets, and Wizards--have all struggled at some point this season. That may be a factor."
   ]
  },
  {
   "cell_type": "markdown",
   "metadata": {},
   "source": [
    "#### Another interesting observation (especially for Philly fans): our model thinks Tobias Harris is more deserving of a nod than Ben Simmons. "
   ]
  },
  {
   "cell_type": "markdown",
   "metadata": {},
   "source": [
    "#### Our model also doesn't consider intangibles. While Zion's having a great season, it's hard to measure the boost he gets from his flashy highlights (like his emphatic dunks)."
   ]
  },
  {
   "cell_type": "code",
   "execution_count": null,
   "metadata": {},
   "outputs": [],
   "source": []
  }
 ],
 "metadata": {
  "kernelspec": {
   "display_name": "cbdashboard",
   "language": "python",
   "name": "cbdashboard"
  },
  "language_info": {
   "codemirror_mode": {
    "name": "ipython",
    "version": 3
   },
   "file_extension": ".py",
   "mimetype": "text/x-python",
   "name": "python",
   "nbconvert_exporter": "python",
   "pygments_lexer": "ipython3",
   "version": "3.7.1"
  }
 },
 "nbformat": 4,
 "nbformat_minor": 4
}
